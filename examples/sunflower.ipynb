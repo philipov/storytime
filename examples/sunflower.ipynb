{
 "cells": [
  {
   "cell_type": "code",
   "execution_count": 4,
   "metadata": {},
   "outputs": [
    {
     "data": {
      "image/png": "[encoded data removed]",
      "text/plain": [
       "<Figure size 432x288 with 1 Axes>"
      ]
     },
     "metadata": {},
     "output_type": "display_data"
    },
    {
     "name": "stdout",
     "output_type": "stream",
     "text": [
      "(Path(array([[ 0.        , -0.5       ],\n",
      "       [ 0.13260155, -0.5       ],\n",
      "       [ 0.25978994, -0.44731685],\n",
      "       [ 0.35355339, -0.35355339],\n",
      "       [ 0.44731685, -0.25978994],\n",
      "       [ 0.5       , -0.13260155],\n",
      "       [ 0.5       ,  0.        ],\n",
      "       [ 0.5       ,  0.13260155],\n",
      "       [ 0.44731685,  0.25978994],\n",
      "       [ 0.35355339,  0.35355339],\n",
      "       [ 0.25978994,  0.44731685],\n",
      "       [ 0.13260155,  0.5       ],\n",
      "       [ 0.        ,  0.5       ],\n",
      "       [-0.13260155,  0.5       ],\n",
      "       [-0.25978994,  0.44731685],\n",
      "       [-0.35355339,  0.35355339],\n",
      "       [-0.44731685,  0.25978994],\n",
      "       [-0.5       ,  0.13260155],\n",
      "       [-0.5       ,  0.        ],\n",
      "       [-0.5       , -0.13260155],\n",
      "       [-0.44731685, -0.25978994],\n",
      "       [-0.35355339, -0.35355339],\n",
      "       [-0.25978994, -0.44731685],\n",
      "       [-0.13260155, -0.5       ],\n",
      "       [ 0.        , -0.5       ],\n",
      "       [ 0.        , -0.5       ]]), array([ 1,  4,  4,  4,  4,  4,  4,  4,  4,  4,  4,  4,  4,  4,  4,  4,  4,\n",
      "        4,  4,  4,  4,  4,  4,  4,  4, 79], dtype=uint8)),)\n",
      "[ 0.  -0.5]\n",
      "[ 0.13260155 -0.5       ]\n",
      "[ 0.25978994 -0.44731685]\n",
      "[ 0.35355339 -0.35355339]\n",
      "[ 0.44731685 -0.25978994]\n",
      "[ 0.5        -0.13260155]\n",
      "[0.5 0. ]\n",
      "[0.5        0.13260155]\n",
      "[0.44731685 0.25978994]\n",
      "[0.35355339 0.35355339]\n",
      "[0.25978994 0.44731685]\n",
      "[0.13260155 0.5       ]\n",
      "[0.  0.5]\n",
      "[-0.13260155  0.5       ]\n",
      "[-0.25978994  0.44731685]\n",
      "[-0.35355339  0.35355339]\n",
      "[-0.44731685  0.25978994]\n",
      "[-0.5         0.13260155]\n",
      "[-0.5  0. ]\n",
      "[-0.5        -0.13260155]\n",
      "[-0.44731685 -0.25978994]\n",
      "[-0.35355339 -0.35355339]\n",
      "[-0.25978994 -0.44731685]\n",
      "[-0.13260155 -0.5       ]\n",
      "[ 0.  -0.5]\n",
      "[ 0.  -0.5]\n"
     ]
    }
   ],
   "source": [
    "#https://stackoverflow.com/questions/9600801/evenly-distributing-n-points-on-a-sphere\n",
    "\n",
    "from numpy import pi, cos, sin, sqrt, arange\n",
    "import matplotlib.pyplot as pp\n",
    "from pprint import pprint\n",
    "\n",
    "num_pts = 1000\n",
    "indices = arange(0, num_pts, dtype=float) + 0.5\n",
    "\n",
    "r = sqrt(indices/num_pts)\n",
    "theta = pi * (1 + 5**0.5) * indices\n",
    "\n",
    "s = pp.scatter(r*cos(theta), r*sin(theta))\n",
    "pp.show()\n",
    "\n",
    "pprint(s.get_paths())\n",
    "\n",
    "for item in s.get_paths()[0].vertices:\n",
    "    print(item)\n",
    "\n"
   ]
  },
  {
   "cell_type": "code",
   "execution_count": 5,
   "metadata": {},
   "outputs": [
    {
     "data": {
      "text/plain": [
       "array([[ 0.        , -0.5       ],\n",
       "       [ 0.13260155, -0.5       ],\n",
       "       [ 0.25978994, -0.44731685],\n",
       "       [ 0.35355339, -0.35355339],\n",
       "       [ 0.44731685, -0.25978994],\n",
       "       [ 0.5       , -0.13260155],\n",
       "       [ 0.5       ,  0.        ],\n",
       "       [ 0.5       ,  0.13260155],\n",
       "       [ 0.44731685,  0.25978994],\n",
       "       [ 0.35355339,  0.35355339],\n",
       "       [ 0.25978994,  0.44731685],\n",
       "       [ 0.13260155,  0.5       ],\n",
       "       [ 0.        ,  0.5       ],\n",
       "       [-0.13260155,  0.5       ],\n",
       "       [-0.25978994,  0.44731685],\n",
       "       [-0.35355339,  0.35355339],\n",
       "       [-0.44731685,  0.25978994],\n",
       "       [-0.5       ,  0.13260155],\n",
       "       [-0.5       ,  0.        ],\n",
       "       [-0.5       , -0.13260155],\n",
       "       [-0.44731685, -0.25978994],\n",
       "       [-0.35355339, -0.35355339],\n",
       "       [-0.25978994, -0.44731685],\n",
       "       [-0.13260155, -0.5       ],\n",
       "       [ 0.        , -0.5       ],\n",
       "       [ 0.        , -0.5       ]])"
      ]
     },
     "execution_count": 5,
     "metadata": {},
     "output_type": "execute_result"
    }
   ],
   "source": [
    "from numpy import pi, cos, sin, sqrt, arange\n",
    "import matplotlib.pyplot as pp\n",
    "\n",
    "num_pts = 1000\n",
    "indices = arange(0, num_pts, dtype=float) + 0.5\n",
    "\n",
    "r = sqrt(indices/num_pts)\n",
    "theta = pi * (1 + 5**0.5) * indices\n",
    "\n",
    "pp.scatter(r*cos(theta), r*sin(theta)).get_paths()[0].vertices"
   ]
  },
  {
   "cell_type": "code",
   "execution_count": null,
   "metadata": {},
   "outputs": [],
   "source": []
  }
 ],
 "metadata": {
  "kernelspec": {
   "display_name": "Python 3",
   "language": "python",
   "name": "python3"
  },
  "language_info": {
   "codemirror_mode": {
    "name": "ipython",
    "version": 3
   },
   "file_extension": ".py",
   "mimetype": "text/x-python",
   "name": "python",
   "nbconvert_exporter": "python",
   "pygments_lexer": "ipython3",
   "version": "3.6.1"
  }
 },
 "nbformat": 4,
 "nbformat_minor": 2
}
